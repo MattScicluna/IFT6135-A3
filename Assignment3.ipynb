{
 "cells": [
  {
   "cell_type": "markdown",
   "metadata": {},
   "source": [
    "# IFT6135 Assignment 3\n",
    "## Neural Turing Machines\n",
    "### Roger Girgis, Alejandro Posada, and Matthew Scicluna"
   ]
  },
  {
   "cell_type": "markdown",
   "metadata": {},
   "source": [
    "## Filling in the gaps\n",
    "\n",
    "### Transformation Functions\n",
    "\n",
    "We implemented the Neural Turing machine described in [1]. The goal was to better understand attention and memory augmented networks, and the difficulties encountered when training them.\n",
    "\n",
    "The output of the controller was a $100$ dimensional vector which we transformed into parameters used in the read and write heads and attention mechanism through single layer networks with different output tranformations. We chose output transformations such that their ranges matched the constraints of the parameters as described in the paper. We note that the choice in output tranformations matched those found in most implementations of Neural turing machines. We present the choice of transformation for each parameter in the following table.\n",
    "\n",
    "| Parameter    |Domain           | Activation                | Formula  |\n",
    "|--------------|-----------------|---------------------------|----------|\n",
    "| $\\beta$      | $(0,\\infty)$    |  Softplus                 |          |\n",
    "| $\\kappa$     | $\\mathbb{R}^M$  |  Identity                 |          |\n",
    "| $\\gamma$     | $(1, \\infty)$   |  1 + Softplus             |          |\n",
    "| $g$          | $(0,1)$         |  Sigmoid                  |          |\n",
    "| $s$          | $(0,1)^K$       |  Softmax$\\circ$Softplus   |          |\n",
    "| $e$          | $\\mathbb{M}$    |  Sigmoid                  |          |\n",
    "| $a$          | $\\mathbb{M}$    |  Sigmoid                  |          |\n",
    "\n",
    "### Diagram\n",
    "\n",
    "(b) Present a diagram showing how you think the following are dependent on each other.\n",
    "\n",
    "INSERT DIAGRAM HERE\n",
    "\n",
    "* the input $x_t$\n",
    "* the memory $M_{t-1}$ and $M_t$\n",
    "* the output of the read head $r_{t-1}$ and $r_t$\n",
    "* the erase and add vectors $e_t$ and $a_t$\n",
    "* the output of the controller $o_t$"
   ]
  },
  {
   "cell_type": "code",
   "execution_count": 4,
   "metadata": {
    "collapsed": false
   },
   "outputs": [],
   "source": [
    "import torch\n",
    "import numpy as np\n",
    "import matplotlib.pyplot as plt\n",
    "from visualize_results import visualize_sequence\n",
    "import warnings\n",
    "warnings.filterwarnings('ignore')"
   ]
  },
  {
   "cell_type": "code",
   "execution_count": 5,
   "metadata": {
    "collapsed": false
   },
   "outputs": [
    {
     "data": {
      "image/png": "[encoded data removed]",
      "text/plain": [
       "<matplotlib.figure.Figure at 0x10e55d278>"
      ]
     },
     "metadata": {},
     "output_type": "display_data"
    }
   ],
   "source": [
    "visualize_sequence('checkpoints/copy-batch-208.0.model', 'NTM', seq_len=100)"
   ]
  },
  {
   "cell_type": "code",
   "execution_count": null,
   "metadata": {
    "collapsed": true
   },
   "outputs": [],
   "source": []
  },
  {
   "cell_type": "markdown",
   "metadata": {},
   "source": [
    "## References\n",
    "\n",
    "[1] Alex Graves, Greg Wayne, and Ivo Danihelka. Neural turing machines. arXiv preprint\n",
    "arXiv :1410.5401, 2014."
   ]
  }
 ],
 "metadata": {
  "anaconda-cloud": {},
  "kernelspec": {
   "display_name": "Python [conda env:KerasEnv]",
   "language": "python",
   "name": "conda-env-KerasEnv-py"
  },
  "language_info": {
   "codemirror_mode": {
    "name": "ipython",
    "version": 3
   },
   "file_extension": ".py",
   "mimetype": "text/x-python",
   "name": "python",
   "nbconvert_exporter": "python",
   "pygments_lexer": "ipython3",
   "version": "3.5.2"
  }
 },
 "nbformat": 4,
 "nbformat_minor": 1
}
