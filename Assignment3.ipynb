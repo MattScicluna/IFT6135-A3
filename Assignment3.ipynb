{
 "cells": [
  {
   "cell_type": "markdown",
   "metadata": {},
   "source": [
    "# IFT6135 Assignment 3\n",
    "## Neural Turing Machines\n",
    "### Roger Girgis, Alejandro Podesa, and Matthew Scicluna"
   ]
  },
  {
   "cell_type": "code",
   "execution_count": 4,
   "metadata": {
    "collapsed": false
   },
   "outputs": [
    {
     "data": {
      "image/png": "[encoded data removed]",
      "text/plain": [
       "<matplotlib.figure.Figure at 0x7fadb42a8ac8>"
      ]
     },
     "metadata": {},
     "output_type": "display_data"
    }
   ],
   "source": [
    "import torch\n",
    "from torch.autograd import Variable\n",
    "from model import NTM\n",
    "from training_dataset import random_binary\n",
    "import numpy as np\n",
    "import matplotlib.pyplot as plt\n",
    "\n",
    "\n",
    "seq_len = 100\n",
    "model_fname = \"checkpoints/copy-batch-80.0.model\"\n",
    "model_type = \"NTM\"  # \"LSTM\" or \"NTM\"\n",
    "\n",
    "\n",
    "if model_type == \"NTM\":\n",
    "    from_before = torch.load(model_fname)\n",
    "    state_dict = from_before['state_dict']\n",
    "    controller_type = from_before['controller_type']\n",
    "    num_inputs = from_before['num_inputs']\n",
    "    num_outputs = from_before['num_outputs']\n",
    "    controller_size = from_before['controller_size']\n",
    "    controller_layers = from_before['controller_layers']\n",
    "    memory_size = from_before['memory_size']\n",
    "    batch_size = from_before['batch_size']\n",
    "    memory_feature_size = from_before['memory_feature_size']\n",
    "    integer_shift = from_before['integer_shift']\n",
    "    cuda = from_before['cuda']\n",
    "    batch_size = 2\n",
    "\n",
    "    model = NTM(num_inputs=num_inputs, num_outputs=num_outputs, controller_size=controller_size,\n",
    "                controller_type=controller_type, controller_layers=controller_layers, memory_size=memory_size,\n",
    "                memory_feature_size=memory_feature_size, integer_shift=integer_shift, batch_size=batch_size, use_cuda=cuda)\n",
    "    model.load_state_dict(state_dict)\n",
    "\n",
    "    dataset = random_binary(max_seq_length=seq_len, num_sequences=1, vector_dim=8,\n",
    "                            batch_Size=batch_size, min_seq_length=seq_len - 1)\n",
    "\n",
    "    criterion = torch.nn.BCELoss()\n",
    "\n",
    "    for batch in dataset:\n",
    "        batch = Variable(torch.FloatTensor(batch))\n",
    "        if cuda:\n",
    "            batch = batch.cuda()\n",
    "        next_r = model.read_head.create_state(batch_size, memory_feature_size)\n",
    "        if controller_type == 'LSTM':\n",
    "            lstm_h, lstm_c = model.controller.create_state(1)\n",
    "\n",
    "        output = Variable(torch.zeros(batch.size()))\n",
    "        if cuda:\n",
    "            output = output.cuda()\n",
    "        for i in range(batch.size()[2]):\n",
    "            x = batch[:, :, i]\n",
    "            if controller_type == 'LSTM':\n",
    "                output[:, :, i], next_r, lstm_h, lstm_c = model.forward(x=x, r=next_r,\n",
    "                                                                        lstm_h=lstm_h, lstm_c=lstm_c)\n",
    "            elif controller_type == 'MLP':\n",
    "                output[:, :, i], next_r = model.forward(x=x, r=next_r)\n",
    "\n",
    "        break\n",
    "    \n",
    "    if cuda:\n",
    "        X = batch.squeeze(0).data.cpu().numpy()\n",
    "        Y = output.squeeze(0).data.cpu().numpy()\n",
    "    else:\n",
    "        X = batch.squeeze(0).data.numpy()\n",
    "        Y = output.squeeze(0).data.numpy()\n",
    "\n",
    "    # Putting the matrices together for nice display, with empty_rows between the two plots\n",
    "    empty_rows = 2\n",
    "    data = np.ones((X.shape[1] + Y.shape[1] + empty_rows, X.shape[2])) * 0.5\n",
    "    data[:X.shape[1], :] = X[0]\n",
    "    data[X.shape[1] + empty_rows:, :] = Y[0]\n",
    "\n",
    "    plt.imshow(data, cmap='binary', interpolation='nearest')\n",
    "    x = plt.colorbar()\n",
    "    plt.show()\n",
    "\n",
    "\n",
    "elif model_type == \"LSTM\":\n",
    "    pass"
   ]
  }
 ],
 "metadata": {
  "anaconda-cloud": {},
  "kernelspec": {
   "display_name": "Python [conda env:KerasEnv]",
   "language": "python",
   "name": "conda-env-KerasEnv-py"
  },
  "language_info": {
   "codemirror_mode": {
    "name": "ipython",
    "version": 3
   },
   "file_extension": ".py",
   "mimetype": "text/x-python",
   "name": "python",
   "nbconvert_exporter": "python",
   "pygments_lexer": "ipython3",
   "version": "3.5.2"
  }
 },
 "nbformat": 4,
 "nbformat_minor": 1
}
